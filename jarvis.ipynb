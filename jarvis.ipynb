{
 "cells": [
  {
   "cell_type": "code",
   "execution_count": 2,
   "metadata": {},
   "outputs": [],
   "source": [
    "import os\n",
    "import sounddevice as sd\n",
    "import scipy.io.wavfile as wav\n",
    "import ollama\n",
    "import speech_recognition as sr"
   ]
  },
  {
   "cell_type": "code",
   "execution_count": null,
   "metadata": {},
   "outputs": [],
   "source": [
    "import sounddevice as sd\n",
    "import speech_recognition as sr\n",
    "#------------------------- Recording -------------------------#\n",
    "def detect_hello():\n",
    "    # Set the sample rate and duration for recording\n",
    "    sample_rate = 44100\n",
    "    duration = 5  # 5 seconds\n",
    "\n",
    "    # Record audio from the microphone\n",
    "    audio = sd.rec(int(sample_rate * duration), samplerate=sample_rate, channels=1)\n",
    "    sd.wait()\n",
    "\n",
    "    # Convert the recorded audio to the appropriate format\n",
    "    audio_data = audio.flatten()\n",
    "\n",
    "    # Convert the audio data to text\n",
    "    r = sr.Recognizer()\n",
    "    text = \"\"\n",
    "    try:\n",
    "        text = r.recognize_google(audio_data)\n",
    "    except sr.UnknownValueError:\n",
    "        pass\n",
    "\n",
    "    # Check if the word \"hello\" is detected in the text\n",
    "    if \"hello\" in text.lower():\n",
    "        return True\n",
    "    else:\n",
    "        return False\n",
    "\n",
    "print(detect_hello())"
   ]
  },
  {
   "cell_type": "code",
   "execution_count": null,
   "metadata": {},
   "outputs": [],
   "source": [
    "#------------------------- Speech Recognition -------------------------#\n",
    "def speech_to_text():\n",
    "    # Load the recorded audio file\n",
    "    audio_file = \"output.wav\"\n",
    "\n",
    "    # Initialize the recognizer\n",
    "    r = sr.Recognizer()\n",
    "\n",
    "    # Open the audio file\n",
    "    with sr.AudioFile(audio_file) as source:\n",
    "        # Read the audio data from the file\n",
    "        audio_data = r.record(source)\n",
    "\n",
    "        # Convert speech to text\n",
    "        text = r.recognize_google(audio_data)\n",
    "\n",
    "    return text\n",
    "\n",
    "# Call the speech_to_text function\n",
    "text = speech_to_text()\n",
    "print(\"Speech to text:\", text)"
   ]
  },
  {
   "cell_type": "code",
   "execution_count": null,
   "metadata": {},
   "outputs": [],
   "source": [
    "#------------------------- Ollama -------------------------#\n",
    "# Setting up the model, enabling streaming responses, and defining the input messages\n",
    "ollama_response = ollama.chat(model='mistral', messages=[\n",
    "     {\n",
    "     'role': 'system',\n",
    "     'content': 'You are a helpful assistant.',\n",
    "     },\n",
    "     {\n",
    "     'role': 'user',\n",
    "     'content': audio,\n",
    "     },\n",
    "])\n",
    "# Printing out of the generated response\n",
    "print(ollama_response['message']['content'])"
   ]
  }
 ],
 "metadata": {
  "kernelspec": {
   "display_name": "Python 3",
   "language": "python",
   "name": "python3"
  },
  "language_info": {
   "codemirror_mode": {
    "name": "ipython",
    "version": 3
   },
   "file_extension": ".py",
   "mimetype": "text/x-python",
   "name": "python",
   "nbconvert_exporter": "python",
   "pygments_lexer": "ipython3",
   "version": "3.11.8"
  }
 },
 "nbformat": 4,
 "nbformat_minor": 2
}
